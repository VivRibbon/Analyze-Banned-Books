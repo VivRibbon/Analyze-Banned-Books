{
 "cells": [
  {
   "cell_type": "markdown",
   "source": [
    "# Modeling Commonalities Among Banned Books in US Prisons in 18 States\n",
    "\n",
    "Through this Jupyter notebook, I will be performing manipulations on data drawn from The Marshall Project, using topic modeling and data visualization to explore\n",
    "commonalities among them. Please see the accompanying paper for methodology and discussion of the results."
   ],
   "metadata": {
    "collapsed": false
   }
  },
  {
   "cell_type": "code",
   "execution_count": 70,
   "outputs": [],
   "source": [
    "### Imports\n",
    "\n",
    "import pandas as pd\n",
    "import spacy\n",
    "import matplotlib as plt\n",
    "\n",
    "nlp = spacy.load(\"en_core_web_sm\")"
   ],
   "metadata": {
    "collapsed": false
   }
  },
  {
   "cell_type": "code",
   "execution_count": 71,
   "outputs": [
    {
     "name": "stdout",
     "output_type": "stream",
     "text": [
      "Pulling CSV into the dataframe, please wait!\n",
      "CSV loaded and saved locally! Here it is:\n"
     ]
    },
    {
     "data": {
      "text/plain": "                                           publication author  \\\n0                       [ARABIC LANGUAGE CHARACTERS].     NaN   \n1         [ARABIC LANGUAGE CHARACTERS]. TAJWEED QURAN.    NaN   \n2      [KOREAN LANGUAGE CHARACTERS] HOLY SPIRIT LOVE.     NaN   \n3                        [KOREAN LANGUAGE CHARACTERS].    NaN   \n4                       [KOREAN LANGUAGE CHARACTERS].     NaN   \n...                                                ...    ...   \n48371                              Mentalism Companion    NaN   \n48372           You Can Read Anyone, Rules of the Game    NaN   \n48373    Sex Slave never judge a Women by her desires     NaN   \n48374                   Moorish American Civics Guide     NaN   \n48375                 Anacarchism and Black Revoultion    NaN   \n\n                      date    year  month   day reason state_arc  \n0      2019-12-18 00:00:00  2019.0   12.0  18.0    NaN        fl  \n1      2021-09-09 00:00:00  2021.0    9.0   9.0    NaN        fl  \n2      2021-02-25 00:00:00  2021.0    2.0  25.0    NaN        fl  \n3      2021-02-25 00:00:00  2021.0    2.0  25.0    NaN        fl  \n4      2021-02-25 00:00:00  2021.0    2.0  25.0    NaN        fl  \n...                    ...     ...    ...   ...    ...       ...  \n48371  2021-08-25 00:00:00  2021.0    8.0  25.0    NaN        ri  \n48372  2021-09-22 00:00:00  2021.0    9.0  22.0    NaN        ri  \n48373  2021-09-30 00:00:00  2021.0    9.0  30.0    NaN        ri  \n48374  2021-09-30 00:00:00  2021.0    9.0  30.0    NaN        ri  \n48375  2022-02-04 00:00:00  2022.0    2.0   4.0    NaN        ri  \n\n[48376 rows x 8 columns]",
      "text/html": "<div>\n<style scoped>\n    .dataframe tbody tr th:only-of-type {\n        vertical-align: middle;\n    }\n\n    .dataframe tbody tr th {\n        vertical-align: top;\n    }\n\n    .dataframe thead th {\n        text-align: right;\n    }\n</style>\n<table border=\"1\" class=\"dataframe\">\n  <thead>\n    <tr style=\"text-align: right;\">\n      <th></th>\n      <th>publication</th>\n      <th>author</th>\n      <th>date</th>\n      <th>year</th>\n      <th>month</th>\n      <th>day</th>\n      <th>reason</th>\n      <th>state_arc</th>\n    </tr>\n  </thead>\n  <tbody>\n    <tr>\n      <th>0</th>\n      <td>[ARABIC LANGUAGE CHARACTERS].</td>\n      <td>NaN</td>\n      <td>2019-12-18 00:00:00</td>\n      <td>2019.0</td>\n      <td>12.0</td>\n      <td>18.0</td>\n      <td>NaN</td>\n      <td>fl</td>\n    </tr>\n    <tr>\n      <th>1</th>\n      <td>[ARABIC LANGUAGE CHARACTERS]. TAJWEED QURAN.</td>\n      <td>NaN</td>\n      <td>2021-09-09 00:00:00</td>\n      <td>2021.0</td>\n      <td>9.0</td>\n      <td>9.0</td>\n      <td>NaN</td>\n      <td>fl</td>\n    </tr>\n    <tr>\n      <th>2</th>\n      <td>[KOREAN LANGUAGE CHARACTERS] HOLY SPIRIT LOVE.</td>\n      <td>NaN</td>\n      <td>2021-02-25 00:00:00</td>\n      <td>2021.0</td>\n      <td>2.0</td>\n      <td>25.0</td>\n      <td>NaN</td>\n      <td>fl</td>\n    </tr>\n    <tr>\n      <th>3</th>\n      <td>[KOREAN LANGUAGE CHARACTERS].</td>\n      <td>NaN</td>\n      <td>2021-02-25 00:00:00</td>\n      <td>2021.0</td>\n      <td>2.0</td>\n      <td>25.0</td>\n      <td>NaN</td>\n      <td>fl</td>\n    </tr>\n    <tr>\n      <th>4</th>\n      <td>[KOREAN LANGUAGE CHARACTERS].</td>\n      <td>NaN</td>\n      <td>2021-02-25 00:00:00</td>\n      <td>2021.0</td>\n      <td>2.0</td>\n      <td>25.0</td>\n      <td>NaN</td>\n      <td>fl</td>\n    </tr>\n    <tr>\n      <th>...</th>\n      <td>...</td>\n      <td>...</td>\n      <td>...</td>\n      <td>...</td>\n      <td>...</td>\n      <td>...</td>\n      <td>...</td>\n      <td>...</td>\n    </tr>\n    <tr>\n      <th>48371</th>\n      <td>Mentalism Companion</td>\n      <td>NaN</td>\n      <td>2021-08-25 00:00:00</td>\n      <td>2021.0</td>\n      <td>8.0</td>\n      <td>25.0</td>\n      <td>NaN</td>\n      <td>ri</td>\n    </tr>\n    <tr>\n      <th>48372</th>\n      <td>You Can Read Anyone, Rules of the Game</td>\n      <td>NaN</td>\n      <td>2021-09-22 00:00:00</td>\n      <td>2021.0</td>\n      <td>9.0</td>\n      <td>22.0</td>\n      <td>NaN</td>\n      <td>ri</td>\n    </tr>\n    <tr>\n      <th>48373</th>\n      <td>Sex Slave never judge a Women by her desires</td>\n      <td>NaN</td>\n      <td>2021-09-30 00:00:00</td>\n      <td>2021.0</td>\n      <td>9.0</td>\n      <td>30.0</td>\n      <td>NaN</td>\n      <td>ri</td>\n    </tr>\n    <tr>\n      <th>48374</th>\n      <td>Moorish American Civics Guide</td>\n      <td>NaN</td>\n      <td>2021-09-30 00:00:00</td>\n      <td>2021.0</td>\n      <td>9.0</td>\n      <td>30.0</td>\n      <td>NaN</td>\n      <td>ri</td>\n    </tr>\n    <tr>\n      <th>48375</th>\n      <td>Anacarchism and Black Revoultion</td>\n      <td>NaN</td>\n      <td>2022-02-04 00:00:00</td>\n      <td>2022.0</td>\n      <td>2.0</td>\n      <td>4.0</td>\n      <td>NaN</td>\n      <td>ri</td>\n    </tr>\n  </tbody>\n</table>\n<p>48376 rows × 8 columns</p>\n</div>"
     },
     "execution_count": 71,
     "metadata": {},
     "output_type": "execute_result"
    }
   ],
   "source": [
    "\"\"\"\n",
    "Conveniently, the project provides a list of all the states' data combined. See the paper for discussion of some complications around this.\n",
    "We pull the csv from the Marshall Project website, save it into a Pandas dataframe, and print it to make sure everything looks good.\n",
    "We also save the original csv locally. This isn't necessary, but it's good practice to keep our original data at hand as it allows us to reference things more easily\n",
    "going forward, particularly if the original link dies at some point.\n",
    "\"\"\"\n",
    "print(\"Pulling CSV into the dataframe, please wait!\")\n",
    "books_df = pd.read_csv(\"https://s3.amazonaws.com/tmp-gfx-public-data/banned-books20220819/banned_book_data_combined_lists.csv?a\")\n",
    "books_df.to_csv(\"./banned_books.csv\")\n",
    "print(\"CSV loaded and saved locally! Here it is:\")\n",
    "books_df"
   ],
   "metadata": {
    "collapsed": false
   }
  },
  {
   "cell_type": "code",
   "execution_count": 72,
   "outputs": [
    {
     "data": {
      "text/plain": "                                           publication author reason state_arc\n0                       [ARABIC LANGUAGE CHARACTERS].    None   None        fl\n1         [ARABIC LANGUAGE CHARACTERS]. TAJWEED QURAN.   None   None        fl\n2      [KOREAN LANGUAGE CHARACTERS] HOLY SPIRIT LOVE.    None   None        fl\n3                        [KOREAN LANGUAGE CHARACTERS].   None   None        fl\n4                       [KOREAN LANGUAGE CHARACTERS].    None   None        fl\n...                                                ...    ...    ...       ...\n48371                              Mentalism Companion   None   None        ri\n48372           You Can Read Anyone, Rules of the Game   None   None        ri\n48373    Sex Slave never judge a Women by her desires    None   None        ri\n48374                   Moorish American Civics Guide    None   None        ri\n48375                 Anacarchism and Black Revoultion   None   None        ri\n\n[48376 rows x 4 columns]",
      "text/html": "<div>\n<style scoped>\n    .dataframe tbody tr th:only-of-type {\n        vertical-align: middle;\n    }\n\n    .dataframe tbody tr th {\n        vertical-align: top;\n    }\n\n    .dataframe thead th {\n        text-align: right;\n    }\n</style>\n<table border=\"1\" class=\"dataframe\">\n  <thead>\n    <tr style=\"text-align: right;\">\n      <th></th>\n      <th>publication</th>\n      <th>author</th>\n      <th>reason</th>\n      <th>state_arc</th>\n    </tr>\n  </thead>\n  <tbody>\n    <tr>\n      <th>0</th>\n      <td>[ARABIC LANGUAGE CHARACTERS].</td>\n      <td>None</td>\n      <td>None</td>\n      <td>fl</td>\n    </tr>\n    <tr>\n      <th>1</th>\n      <td>[ARABIC LANGUAGE CHARACTERS]. TAJWEED QURAN.</td>\n      <td>None</td>\n      <td>None</td>\n      <td>fl</td>\n    </tr>\n    <tr>\n      <th>2</th>\n      <td>[KOREAN LANGUAGE CHARACTERS] HOLY SPIRIT LOVE.</td>\n      <td>None</td>\n      <td>None</td>\n      <td>fl</td>\n    </tr>\n    <tr>\n      <th>3</th>\n      <td>[KOREAN LANGUAGE CHARACTERS].</td>\n      <td>None</td>\n      <td>None</td>\n      <td>fl</td>\n    </tr>\n    <tr>\n      <th>4</th>\n      <td>[KOREAN LANGUAGE CHARACTERS].</td>\n      <td>None</td>\n      <td>None</td>\n      <td>fl</td>\n    </tr>\n    <tr>\n      <th>...</th>\n      <td>...</td>\n      <td>...</td>\n      <td>...</td>\n      <td>...</td>\n    </tr>\n    <tr>\n      <th>48371</th>\n      <td>Mentalism Companion</td>\n      <td>None</td>\n      <td>None</td>\n      <td>ri</td>\n    </tr>\n    <tr>\n      <th>48372</th>\n      <td>You Can Read Anyone, Rules of the Game</td>\n      <td>None</td>\n      <td>None</td>\n      <td>ri</td>\n    </tr>\n    <tr>\n      <th>48373</th>\n      <td>Sex Slave never judge a Women by her desires</td>\n      <td>None</td>\n      <td>None</td>\n      <td>ri</td>\n    </tr>\n    <tr>\n      <th>48374</th>\n      <td>Moorish American Civics Guide</td>\n      <td>None</td>\n      <td>None</td>\n      <td>ri</td>\n    </tr>\n    <tr>\n      <th>48375</th>\n      <td>Anacarchism and Black Revoultion</td>\n      <td>None</td>\n      <td>None</td>\n      <td>ri</td>\n    </tr>\n  </tbody>\n</table>\n<p>48376 rows × 4 columns</p>\n</div>"
     },
     "execution_count": 72,
     "metadata": {},
     "output_type": "execute_result"
    }
   ],
   "source": [
    "# First, we clean the dataframe by removing the columns that aren't of interest to us: the time-related ones. Then we replace all NaN values with the string \"None,\"\n",
    "# this allows us to properly process it with Spacy while still keeping track of how many nil values are present in the data.\n",
    "\n",
    "books_df.drop(\"date\", inplace=True, axis=1)\n",
    "books_df.drop(\"year\", inplace=True, axis=1)\n",
    "books_df.drop(\"month\", inplace=True, axis=1)\n",
    "books_df.drop(\"day\", inplace=True, axis=1)\n",
    "books_df = books_df.fillna(\"None\")\n",
    "#books_df[\"author\"]=books_df[\"author\"].map(str)\n",
    "# Then print again to see how it looks.\n",
    "\n",
    "books_df"
   ],
   "metadata": {
    "collapsed": false
   }
  },
  {
   "cell_type": "code",
   "execution_count": 86,
   "outputs": [],
   "source": [
    "# With itertuples we read each column of the dataframe into a separate variable to later process with Spacy.\n",
    "\n",
    "publication_column = (row.publication for row in books_df.itertuples())\n",
    "author_column = (row.author for row in books_df.itertuples())\n",
    "reason_column = (row.reason for row in books_df.itertuples())\n",
    "state_column = (row.state_arc for row in books_df.itertuples())\n",
    "#We return to these variables later when we do some topic modeling, but first we do POS tagging in Spacy."
   ],
   "metadata": {
    "collapsed": false
   }
  },
  {
   "cell_type": "code",
   "execution_count": 87,
   "outputs": [
    {
     "name": "stdout",
     "output_type": "stream",
     "text": [
      "Running everything through the Spacy NLP pipeline. This may take some time, please be patient.\n",
      "\n",
      "Processing publication column.\n",
      "\n",
      "...\n",
      "Publication column processed.\n",
      "\n",
      "...\n",
      "Processing author column.\n",
      "\n",
      "...\n",
      "Author column processed.\n",
      "\n",
      "...\n",
      "Processing reason column.\n",
      "\n",
      "...\n",
      "Reason column processed.\n",
      "\n",
      "...\n",
      "Processing state column.\n",
      "\n",
      "...\n",
      "Reason state processed.\n",
      "...\n",
      "All columns have been processed, thank you for waiting.\n"
     ]
    }
   ],
   "source": [
    "# We move to Spacy and run through the nlp pipeline, removing stopwords and non-alpha characters from the publication and reason columns while we're at it.\n",
    "# This gives us the Spacy data we will analyze.\n",
    "\n",
    "publication_nouns = []\n",
    "publication_proper = []\n",
    "publication_verbs = []\n",
    "author_names = []\n",
    "reason_nouns = []\n",
    "reason_adj = []\n",
    "states = []\n",
    "\n",
    "print(\"Running everything through the Spacy NLP pipeline. This may take some time, please be patient.\")\n",
    "\n",
    "# We process the publication column, pulling out alphanumeric, nonstop, lemmatized versions of the nouns, proper nouns, and verbs.\n",
    "print(\"\\nProcessing publication column.\")\n",
    "for doc in nlp.pipe(publication_column):\n",
    "    for token in doc:\n",
    "        if token.is_alpha and not token.is_stop:\n",
    "            if token.pos_ == \"NOUN\":\n",
    "                publication_nouns.append(token.lemma_.lower())\n",
    "            elif token.pos_ == \"PROPN\":\n",
    "                publication_proper.append(token.lemma_.lower())\n",
    "            elif token.pos_ == \"VERB\":\n",
    "                publication_verbs.append(token.lemma_.lower())\n",
    "print(\"\\n...\\nPublication column processed.\")\n",
    "\n",
    "#We process the author column, just assembling one list of all the names.\n",
    "print(\"\\n...\\nProcessing author column.\")\n",
    "for doc in nlp.pipe(author_column):\n",
    "    for token in doc:\n",
    "        if token.is_alpha:\n",
    "            author_names.append(token.text.lower())\n",
    "print(\"\\n...\\nAuthor column processed.\")\n",
    "\n",
    "#We process the reasons column, pulling out lemmatized nonstop nouns and adjectives.\n",
    "print(\"\\n...\\nProcessing reason column.\")\n",
    "for doc in nlp.pipe(reason_column):\n",
    "    for token in doc:\n",
    "        if token.is_alpha and not token.is_stop:\n",
    "            if token.pos_ == \"NOUN\" or \"PROPN\":\n",
    "                reason_nouns.append(token.lemma_.lower())\n",
    "            elif token.pos_ == \"ADJ\":\n",
    "                reason_adj.append(token.lemma_.lower())\n",
    "print(\"\\n...\\nReason column processed.\")\n",
    "\n",
    "#The states do not need to be sorted by POS since there's only one type of information in the column. However, to make sure our data is consistent we use Spacy\n",
    "#to filter out any potential non-alpha characters.\n",
    "print(\"\\n...\\nProcessing state column.\")\n",
    "for doc in nlp.pipe(state_column):\n",
    "    for token in doc:\n",
    "        if token.is_alpha:\n",
    "            states.append(token.text.lower())\n",
    "print(\"\\n...\\nState column processed.\\n...\\nAll columns have been processed, thank you for waiting.\")"
   ],
   "metadata": {
    "collapsed": false
   }
  },
  {
   "cell_type": "code",
   "execution_count": 90,
   "outputs": [
    {
     "data": {
      "text/plain": "['fl',\n 'fl',\n 'fl',\n 'fl',\n 'fl',\n 'fl',\n 'fl',\n 'fl',\n 'fl',\n 'fl',\n 'fl',\n 'fl',\n 'fl',\n 'fl',\n 'fl',\n 'fl',\n 'fl',\n 'fl',\n 'fl',\n 'fl',\n 'fl',\n 'fl',\n 'fl',\n 'fl',\n 'fl',\n 'fl',\n 'fl',\n 'fl',\n 'fl',\n 'fl',\n 'fl',\n 'fl',\n 'fl',\n 'fl',\n 'fl',\n 'fl',\n 'fl',\n 'fl',\n 'fl',\n 'fl',\n 'fl',\n 'fl',\n 'fl',\n 'fl',\n 'fl',\n 'fl',\n 'fl',\n 'fl',\n 'fl',\n 'fl',\n 'fl',\n 'fl',\n 'fl',\n 'fl',\n 'fl',\n 'fl',\n 'fl',\n 'fl',\n 'fl',\n 'fl',\n 'fl',\n 'fl',\n 'fl',\n 'fl',\n 'fl',\n 'fl',\n 'fl',\n 'fl',\n 'fl',\n 'fl',\n 'fl',\n 'fl',\n 'fl',\n 'fl',\n 'fl',\n 'fl',\n 'fl',\n 'fl',\n 'fl',\n 'fl',\n 'fl',\n 'fl',\n 'fl',\n 'fl',\n 'fl',\n 'fl',\n 'fl',\n 'fl',\n 'fl',\n 'fl',\n 'fl',\n 'fl',\n 'fl',\n 'fl',\n 'fl',\n 'fl',\n 'fl',\n 'fl',\n 'fl',\n 'fl',\n 'fl',\n 'fl',\n 'fl',\n 'fl',\n 'fl',\n 'fl',\n 'fl',\n 'fl',\n 'fl',\n 'fl',\n 'fl',\n 'fl',\n 'fl',\n 'fl',\n 'fl',\n 'fl',\n 'fl',\n 'fl',\n 'fl',\n 'fl',\n 'fl',\n 'fl',\n 'fl',\n 'fl',\n 'fl',\n 'fl',\n 'fl',\n 'fl',\n 'fl',\n 'fl',\n 'fl',\n 'fl',\n 'fl',\n 'fl',\n 'fl',\n 'fl',\n 'fl',\n 'fl',\n 'fl',\n 'fl',\n 'fl',\n 'fl',\n 'fl',\n 'fl',\n 'fl',\n 'fl',\n 'fl',\n 'fl',\n 'fl',\n 'fl',\n 'fl',\n 'fl',\n 'fl',\n 'fl',\n 'fl',\n 'fl',\n 'fl',\n 'fl',\n 'fl',\n 'fl',\n 'fl',\n 'fl',\n 'fl',\n 'fl',\n 'fl',\n 'fl',\n 'fl',\n 'fl',\n 'fl',\n 'fl',\n 'fl',\n 'fl',\n 'fl',\n 'fl',\n 'fl',\n 'fl',\n 'fl',\n 'fl',\n 'fl',\n 'fl',\n 'fl',\n 'fl',\n 'fl',\n 'fl',\n 'fl',\n 'fl',\n 'fl',\n 'fl',\n 'fl',\n 'fl',\n 'fl',\n 'fl',\n 'fl',\n 'fl',\n 'fl',\n 'fl',\n 'fl',\n 'fl',\n 'fl',\n 'fl',\n 'fl',\n 'fl',\n 'fl',\n 'fl',\n 'fl',\n 'fl',\n 'fl',\n 'fl',\n 'fl',\n 'fl',\n 'fl',\n 'fl',\n 'fl',\n 'fl',\n 'fl',\n 'fl',\n 'fl',\n 'fl',\n 'fl',\n 'fl',\n 'fl',\n 'fl',\n 'fl',\n 'fl',\n 'fl',\n 'fl',\n 'fl',\n 'fl',\n 'fl',\n 'fl',\n 'fl',\n 'fl',\n 'fl',\n 'fl',\n 'fl',\n 'fl',\n 'fl',\n 'fl',\n 'fl',\n 'fl',\n 'fl',\n 'fl',\n 'fl',\n 'fl',\n 'fl',\n 'fl',\n 'fl',\n 'fl',\n 'fl',\n 'fl',\n 'fl',\n 'fl',\n 'fl',\n 'fl',\n 'fl',\n 'fl',\n 'fl',\n 'fl',\n 'fl',\n 'fl',\n 'fl',\n 'fl',\n 'fl',\n 'fl',\n 'fl',\n 'fl',\n 'fl',\n 'fl',\n 'fl',\n 'fl',\n 'fl',\n 'fl',\n 'fl',\n 'fl',\n 'fl',\n 'fl',\n 'fl',\n 'fl',\n 'fl',\n 'fl',\n 'fl',\n 'fl',\n 'fl',\n 'fl',\n 'fl',\n 'fl',\n 'fl',\n 'fl',\n 'fl',\n 'fl',\n 'fl',\n 'fl',\n 'fl',\n 'fl',\n 'fl',\n 'fl',\n 'fl',\n 'fl',\n 'fl',\n 'fl',\n 'fl',\n 'fl',\n 'fl',\n 'fl',\n 'fl',\n 'fl',\n 'fl',\n 'fl',\n 'fl',\n 'fl',\n 'fl',\n 'fl',\n 'fl',\n 'fl',\n 'fl',\n 'fl',\n 'fl',\n 'fl',\n 'fl',\n 'fl',\n 'fl',\n 'fl',\n 'fl',\n 'fl',\n 'fl',\n 'fl',\n 'fl',\n 'fl',\n 'fl',\n 'fl',\n 'fl',\n 'fl',\n 'fl',\n 'fl',\n 'fl',\n 'fl',\n 'fl',\n 'fl',\n 'fl',\n 'fl',\n 'fl',\n 'fl',\n 'fl',\n 'fl',\n 'fl',\n 'fl',\n 'fl',\n 'fl',\n 'fl',\n 'fl',\n 'fl',\n 'fl',\n 'fl',\n 'fl',\n 'fl',\n 'fl',\n 'fl',\n 'fl',\n 'fl',\n 'fl',\n 'fl',\n 'fl',\n 'fl',\n 'fl',\n 'fl',\n 'fl',\n 'fl',\n 'fl',\n 'fl',\n 'fl',\n 'fl',\n 'fl',\n 'fl',\n 'fl',\n 'fl',\n 'fl',\n 'fl',\n 'fl',\n 'fl',\n 'fl',\n 'fl',\n 'fl',\n 'fl',\n 'fl',\n 'fl',\n 'fl',\n 'fl',\n 'fl',\n 'fl',\n 'fl',\n 'fl',\n 'fl',\n 'fl',\n 'fl',\n 'fl',\n 'fl',\n 'fl',\n 'fl',\n 'fl',\n 'fl',\n 'fl',\n 'fl',\n 'fl',\n 'fl',\n 'fl',\n 'fl',\n 'fl',\n 'fl',\n 'fl',\n 'fl',\n 'fl',\n 'fl',\n 'fl',\n 'fl',\n 'fl',\n 'fl',\n 'fl',\n 'fl',\n 'fl',\n 'fl',\n 'fl',\n 'fl',\n 'fl',\n 'fl',\n 'fl',\n 'fl',\n 'fl',\n 'fl',\n 'fl',\n 'fl',\n 'fl',\n 'fl',\n 'fl',\n 'fl',\n 'fl',\n 'fl',\n 'fl',\n 'fl',\n 'fl',\n 'fl',\n 'fl',\n 'fl',\n 'fl',\n 'fl',\n 'fl',\n 'fl',\n 'fl',\n 'fl',\n 'fl',\n 'fl',\n 'fl',\n 'fl',\n 'fl',\n 'fl',\n 'fl',\n 'fl',\n 'fl',\n 'fl',\n 'fl',\n 'fl',\n 'fl',\n 'fl',\n 'fl',\n 'fl',\n 'fl',\n 'fl',\n 'fl',\n 'fl',\n 'fl',\n 'fl',\n 'fl',\n 'fl',\n 'fl',\n 'fl',\n 'fl',\n 'fl',\n 'fl',\n 'fl',\n 'fl',\n 'fl',\n 'fl',\n 'fl',\n 'fl',\n 'fl',\n 'fl',\n 'fl',\n 'fl',\n 'fl',\n 'fl',\n 'fl',\n 'fl',\n 'fl',\n 'fl',\n 'fl',\n 'fl',\n 'fl',\n 'fl',\n 'fl',\n 'fl',\n 'fl',\n 'fl',\n 'fl',\n 'fl',\n 'fl',\n 'fl',\n 'fl',\n 'fl',\n 'fl',\n 'fl',\n 'fl',\n 'fl',\n 'fl',\n 'fl',\n 'fl',\n 'fl',\n 'fl',\n 'fl',\n 'fl',\n 'fl',\n 'fl',\n 'fl',\n 'fl',\n 'fl',\n 'fl',\n 'fl',\n 'fl',\n 'fl',\n 'fl',\n 'fl',\n 'fl',\n 'fl',\n 'fl',\n 'fl',\n 'fl',\n 'fl',\n 'fl',\n 'fl',\n 'fl',\n 'fl',\n 'fl',\n 'fl',\n 'fl',\n 'fl',\n 'fl',\n 'fl',\n 'fl',\n 'fl',\n 'fl',\n 'fl',\n 'fl',\n 'fl',\n 'fl',\n 'fl',\n 'fl',\n 'fl',\n 'fl',\n 'fl',\n 'fl',\n 'fl',\n 'fl',\n 'fl',\n 'fl',\n 'fl',\n 'fl',\n 'fl',\n 'fl',\n 'fl',\n 'fl',\n 'fl',\n 'fl',\n 'fl',\n 'fl',\n 'fl',\n 'fl',\n 'fl',\n 'fl',\n 'fl',\n 'fl',\n 'fl',\n 'fl',\n 'fl',\n 'fl',\n 'fl',\n 'fl',\n 'fl',\n 'fl',\n 'fl',\n 'fl',\n 'fl',\n 'fl',\n 'fl',\n 'fl',\n 'fl',\n 'fl',\n 'fl',\n 'fl',\n 'fl',\n 'fl',\n 'fl',\n 'fl',\n 'fl',\n 'fl',\n 'fl',\n 'fl',\n 'fl',\n 'fl',\n 'fl',\n 'fl',\n 'fl',\n 'fl',\n 'fl',\n 'fl',\n 'fl',\n 'fl',\n 'fl',\n 'fl',\n 'fl',\n 'fl',\n 'fl',\n 'fl',\n 'fl',\n 'fl',\n 'fl',\n 'fl',\n 'fl',\n 'fl',\n 'fl',\n 'fl',\n 'fl',\n 'fl',\n 'fl',\n 'fl',\n 'fl',\n 'fl',\n 'fl',\n 'fl',\n 'fl',\n 'fl',\n 'fl',\n 'fl',\n 'fl',\n 'fl',\n 'fl',\n 'fl',\n 'fl',\n 'fl',\n 'fl',\n 'fl',\n 'fl',\n 'fl',\n 'fl',\n 'fl',\n 'fl',\n 'fl',\n 'fl',\n 'fl',\n 'fl',\n 'fl',\n 'fl',\n 'fl',\n 'fl',\n 'fl',\n 'fl',\n 'fl',\n 'fl',\n 'fl',\n 'fl',\n 'fl',\n 'fl',\n 'fl',\n 'fl',\n 'fl',\n 'fl',\n 'fl',\n 'fl',\n 'fl',\n 'fl',\n 'fl',\n 'fl',\n 'fl',\n 'fl',\n 'fl',\n 'fl',\n 'fl',\n 'fl',\n 'fl',\n 'fl',\n 'fl',\n 'fl',\n 'fl',\n 'fl',\n 'fl',\n 'fl',\n 'fl',\n 'fl',\n 'fl',\n 'fl',\n 'fl',\n 'fl',\n 'fl',\n 'fl',\n 'fl',\n 'fl',\n 'fl',\n 'fl',\n 'fl',\n 'fl',\n 'fl',\n 'fl',\n 'fl',\n 'fl',\n 'fl',\n 'fl',\n 'fl',\n 'fl',\n 'fl',\n 'fl',\n 'fl',\n 'fl',\n 'fl',\n 'fl',\n 'fl',\n 'fl',\n 'fl',\n 'fl',\n 'fl',\n 'fl',\n 'fl',\n 'fl',\n 'fl',\n 'fl',\n 'fl',\n 'fl',\n 'fl',\n 'fl',\n 'fl',\n 'fl',\n 'fl',\n 'fl',\n 'fl',\n 'fl',\n 'fl',\n 'fl',\n 'fl',\n 'fl',\n 'fl',\n 'fl',\n 'fl',\n 'fl',\n 'fl',\n 'fl',\n 'fl',\n 'fl',\n 'fl',\n 'fl',\n 'fl',\n 'fl',\n 'fl',\n 'fl',\n 'fl',\n 'fl',\n 'fl',\n 'fl',\n 'fl',\n 'fl',\n 'fl',\n 'fl',\n 'fl',\n 'fl',\n 'fl',\n 'fl',\n 'fl',\n 'fl',\n 'fl',\n 'fl',\n 'fl',\n 'fl',\n 'fl',\n 'fl',\n 'fl',\n 'fl',\n 'fl',\n 'fl',\n 'fl',\n 'fl',\n 'fl',\n 'fl',\n 'fl',\n 'fl',\n 'fl',\n 'fl',\n 'fl',\n 'fl',\n 'fl',\n 'fl',\n 'fl',\n 'fl',\n 'fl',\n 'fl',\n 'fl',\n 'fl',\n 'fl',\n 'fl',\n 'fl',\n 'fl',\n 'fl',\n 'fl',\n 'fl',\n 'fl',\n 'fl',\n 'fl',\n 'fl',\n 'fl',\n 'fl',\n 'fl',\n 'fl',\n 'fl',\n 'fl',\n 'fl',\n 'fl',\n 'fl',\n 'fl',\n 'fl',\n 'fl',\n 'fl',\n 'fl',\n 'fl',\n 'fl',\n 'fl',\n 'fl',\n 'fl',\n 'fl',\n 'fl',\n 'fl',\n 'fl',\n 'fl',\n 'fl',\n 'fl',\n 'fl',\n 'fl',\n 'fl',\n 'fl',\n 'fl',\n 'fl',\n 'fl',\n 'fl',\n 'fl',\n 'fl',\n 'fl',\n 'fl',\n 'fl',\n 'fl',\n 'fl',\n 'fl',\n 'fl',\n 'fl',\n 'fl',\n 'fl',\n 'fl',\n 'fl',\n 'fl',\n 'fl',\n 'fl',\n 'fl',\n 'fl',\n 'fl',\n 'fl',\n 'fl',\n 'fl',\n 'fl',\n 'fl',\n 'fl',\n 'fl',\n 'fl',\n 'fl',\n 'fl',\n 'fl',\n 'fl',\n 'fl',\n 'fl',\n 'fl',\n 'fl',\n 'fl',\n 'fl',\n 'fl',\n 'fl',\n 'fl',\n 'fl',\n 'fl',\n 'fl',\n 'fl',\n 'fl',\n 'fl',\n 'fl',\n 'fl',\n 'fl',\n 'fl',\n 'fl',\n 'fl',\n 'fl',\n 'fl',\n 'fl',\n 'fl',\n 'fl',\n 'fl',\n 'fl',\n 'fl',\n 'fl',\n 'fl',\n 'fl',\n 'fl',\n 'fl',\n 'fl',\n 'fl',\n 'fl',\n 'fl',\n 'fl',\n 'fl',\n 'fl',\n 'fl',\n 'fl',\n 'fl',\n 'fl',\n 'fl',\n 'fl',\n 'fl',\n 'fl',\n 'fl',\n 'fl',\n 'fl',\n 'fl',\n 'fl',\n 'fl',\n 'fl',\n 'fl',\n 'fl',\n 'fl',\n 'fl',\n 'fl',\n 'fl',\n 'fl',\n 'fl',\n 'fl',\n 'fl',\n 'fl',\n 'fl',\n 'fl',\n 'fl',\n 'fl',\n 'fl',\n 'fl',\n 'fl',\n 'fl',\n 'fl',\n 'fl',\n 'fl',\n 'fl',\n 'fl',\n 'fl',\n 'fl',\n 'fl',\n 'fl',\n 'fl',\n 'fl',\n 'fl',\n 'fl',\n 'fl',\n 'fl',\n 'fl',\n 'fl',\n 'fl',\n 'fl',\n 'fl',\n 'fl',\n 'fl',\n 'fl',\n 'fl',\n 'fl',\n 'fl',\n 'fl',\n 'fl',\n 'fl',\n 'fl',\n 'fl',\n 'fl',\n 'fl',\n 'fl',\n 'fl',\n 'fl',\n 'fl',\n 'fl',\n 'fl',\n 'fl',\n 'fl',\n 'fl',\n 'fl',\n 'fl',\n 'fl',\n 'fl',\n 'fl',\n ...]"
     },
     "execution_count": 90,
     "metadata": {},
     "output_type": "execute_result"
    }
   ],
   "source": [
    "states"
   ],
   "metadata": {
    "collapsed": false
   }
  },
  {
   "cell_type": "code",
   "execution_count": null,
   "outputs": [],
   "source": [],
   "metadata": {
    "collapsed": false
   }
  }
 ],
 "metadata": {
  "kernelspec": {
   "display_name": "Python 3",
   "language": "python",
   "name": "python3"
  },
  "language_info": {
   "codemirror_mode": {
    "name": "ipython",
    "version": 2
   },
   "file_extension": ".py",
   "mimetype": "text/x-python",
   "name": "python",
   "nbconvert_exporter": "python",
   "pygments_lexer": "ipython2",
   "version": "2.7.6"
  }
 },
 "nbformat": 4,
 "nbformat_minor": 0
}
